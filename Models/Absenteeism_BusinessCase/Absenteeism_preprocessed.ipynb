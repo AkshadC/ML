{
 "cells": [
  {
   "cell_type": "code",
   "execution_count": 50,
   "metadata": {
    "collapsed": true
   },
   "outputs": [],
   "source": [
    "import pandas as pd"
   ]
  },
  {
   "cell_type": "code",
   "execution_count": 51,
   "outputs": [],
   "source": [
    "raw_csv_data = pd.read_csv('Absenteeism-data.csv')\n",
    "df = raw_csv_data.copy()"
   ],
   "metadata": {
    "collapsed": false,
    "pycharm": {
     "name": "#%%\n"
    }
   }
  },
  {
   "cell_type": "code",
   "execution_count": 52,
   "outputs": [],
   "source": [
    "df = df.drop(['ID'],axis=1)\n",
    "reason_columns = pd.get_dummies(df['Reason for Absence'],drop_first=True)\n",
    "df = df.drop(['Reason for Absence'],axis=1)\n",
    "\n",
    "reason_type_1 = reason_columns.loc[:,1:14].max(axis=1)\n",
    "reason_type_2 = reason_columns.loc[:,15:17].max(axis=1)\n",
    "reason_type_3 = reason_columns.loc[:,18:21].max(axis=1)\n",
    "reason_type_4 = reason_columns.loc[:,22:].max(axis=1)\n",
    "df = pd.concat([df,reason_type_1,reason_type_2,reason_type_3,reason_type_4],axis=1)"
   ],
   "metadata": {
    "collapsed": false,
    "pycharm": {
     "name": "#%%\n"
    }
   }
  },
  {
   "cell_type": "code",
   "execution_count": 53,
   "outputs": [],
   "source": [
    "column_names = [\"Date\",\"Transportation Expense\",'Distance to Work','Age','Daily Work Load Average','Body Mass Index','Education','Children','Pets','Absenteeism Time in Hours','Reason Type 1','Reason Type 2','Reason Type 3','Reason Type 4']\n",
    "df.columns = column_names"
   ],
   "metadata": {
    "collapsed": false,
    "pycharm": {
     "name": "#%%\n"
    }
   }
  },
  {
   "cell_type": "code",
   "execution_count": 54,
   "outputs": [],
   "source": [
    "column_names_reordered = ['Reason Type 1','Reason Type 2','Reason Type 3','Reason Type 4',\"Date\",\"Transportation Expense\",'Distance to Work','Age','Daily Work Load Average','Body Mass Index','Education','Children','Pets','Absenteeism Time in Hours']\n",
    "df = df[column_names_reordered]"
   ],
   "metadata": {
    "collapsed": false,
    "pycharm": {
     "name": "#%%\n"
    }
   }
  },
  {
   "cell_type": "code",
   "execution_count": 55,
   "outputs": [],
   "source": [
    "df['Date'] = pd.to_datetime(df['Date'],format='%d/%m/%Y')"
   ],
   "metadata": {
    "collapsed": false,
    "pycharm": {
     "name": "#%%\n"
    }
   }
  },
  {
   "cell_type": "code",
   "execution_count": 56,
   "outputs": [],
   "source": [
    "list_months=[]\n",
    "for i in range(df.shape[0]):\n",
    "    list_months.append(df['Date'][i].month)\n",
    "df['Month Value'] = list_months"
   ],
   "metadata": {
    "collapsed": false,
    "pycharm": {
     "name": "#%%\n"
    }
   }
  },
  {
   "cell_type": "code",
   "execution_count": 57,
   "outputs": [],
   "source": [
    "def date_to_weekday(date_value):\n",
    "    return date_value.weekday()\n",
    "df['Day of The Week'] = df['Date'].apply(date_to_weekday)\n",
    "df = df.drop(['Date'],axis=1)"
   ],
   "metadata": {
    "collapsed": false,
    "pycharm": {
     "name": "#%%\n"
    }
   }
  },
  {
   "cell_type": "code",
   "execution_count": 58,
   "outputs": [
    {
     "data": {
      "text/plain": "1    583\n3     73\n2     40\n4      4\nName: Education, dtype: int64"
     },
     "execution_count": 58,
     "metadata": {},
     "output_type": "execute_result"
    }
   ],
   "source": [
    "df['Education'] = df['Education'].map({1:0, 2:1, 3:1, 4:1})"
   ],
   "metadata": {
    "collapsed": false,
    "pycharm": {
     "name": "#%%\n"
    }
   }
  },
  {
   "cell_type": "code",
   "execution_count": 59,
   "outputs": [],
   "source": [
    "df_preprocessed = df.copy()\n",
    "df_preprocessed.to_csv('Absenteeism_preprocessed.csv',index=False)"
   ],
   "metadata": {
    "collapsed": false,
    "pycharm": {
     "name": "#%%\n"
    }
   }
  }
 ],
 "metadata": {
  "kernelspec": {
   "display_name": "Python 3",
   "language": "python",
   "name": "python3"
  },
  "language_info": {
   "codemirror_mode": {
    "name": "ipython",
    "version": 2
   },
   "file_extension": ".py",
   "mimetype": "text/x-python",
   "name": "python",
   "nbconvert_exporter": "python",
   "pygments_lexer": "ipython2",
   "version": "2.7.6"
  }
 },
 "nbformat": 4,
 "nbformat_minor": 0
}