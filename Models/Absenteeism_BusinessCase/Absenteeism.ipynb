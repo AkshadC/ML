{
 "cells": [
  {
   "cell_type": "code",
   "execution_count": 68,
   "metadata": {
    "collapsed": true
   },
   "outputs": [],
   "source": [
    "import pandas as pd"
   ]
  },
  {
   "cell_type": "code",
   "execution_count": 69,
   "outputs": [],
   "source": [
    "raw_csv_data = pd.read_csv('Absenteeism-data.csv')\n",
    "df = raw_csv_data.copy()"
   ],
   "metadata": {
    "collapsed": false,
    "pycharm": {
     "name": "#%%\n"
    }
   }
  },
  {
   "cell_type": "code",
   "execution_count": 70,
   "outputs": [],
   "source": [
    "df = df.drop(['ID'],axis=1)\n",
    "reason_columns = pd.get_dummies(df['Reason for Absence'],drop_first=True)\n",
    "df = df.drop(['Reason for Absence'],axis=1)\n",
    "\n",
    "reason_type_1 = reason_columns.loc[:,1:14].max(axis=1)\n",
    "reason_type_2 = reason_columns.loc[:,15:17].max(axis=1)\n",
    "reason_type_3 = reason_columns.loc[:,18:21].max(axis=1)\n",
    "reason_type_4 = reason_columns.loc[:,22:].max(axis=1)\n",
    "df = pd.concat([df,reason_type_1,reason_type_2,reason_type_3,reason_type_4],axis=1)\n"
   ],
   "metadata": {
    "collapsed": false,
    "pycharm": {
     "name": "#%%\n"
    }
   }
  },
  {
   "cell_type": "code",
   "execution_count": 71,
   "outputs": [],
   "source": [
    "column_names = [\"Date\",\"Transportation Expense\",'Distance to Work','Age','Daily Work Load Average','Body Mass Index','Education','Children','Pets','Absenteeism Time in Hours','Reason Type 1','Reason Type 2','Reason Type 3','Reason Type 4']\n",
    "df.columns = column_names"
   ],
   "metadata": {
    "collapsed": false,
    "pycharm": {
     "name": "#%%\n"
    }
   }
  },
  {
   "cell_type": "code",
   "execution_count": 72,
   "outputs": [
    {
     "data": {
      "text/plain": "   Reason Type 1  Reason Type 2  Reason Type 3  Reason Type 4        Date  \\\n0              0              0              0              1  07/07/2015   \n1              0              0              0              0  14/07/2015   \n2              0              0              0              1  15/07/2015   \n3              1              0              0              0  16/07/2015   \n4              0              0              0              1  23/07/2015   \n\n   Transportation Expense  Distance to Work  Age  Daily Work Load Average  \\\n0                     289                36   33                  239.554   \n1                     118                13   50                  239.554   \n2                     179                51   38                  239.554   \n3                     279                 5   39                  239.554   \n4                     289                36   33                  239.554   \n\n   Body Mass Index  Education  Children  Pets  Absenteeism Time in Hours  \n0               30          1         2     1                          4  \n1               31          1         1     0                          0  \n2               31          1         0     0                          2  \n3               24          1         2     0                          4  \n4               30          1         2     1                          2  ",
      "text/html": "<div>\n<style scoped>\n    .dataframe tbody tr th:only-of-type {\n        vertical-align: middle;\n    }\n\n    .dataframe tbody tr th {\n        vertical-align: top;\n    }\n\n    .dataframe thead th {\n        text-align: right;\n    }\n</style>\n<table border=\"1\" class=\"dataframe\">\n  <thead>\n    <tr style=\"text-align: right;\">\n      <th></th>\n      <th>Reason Type 1</th>\n      <th>Reason Type 2</th>\n      <th>Reason Type 3</th>\n      <th>Reason Type 4</th>\n      <th>Date</th>\n      <th>Transportation Expense</th>\n      <th>Distance to Work</th>\n      <th>Age</th>\n      <th>Daily Work Load Average</th>\n      <th>Body Mass Index</th>\n      <th>Education</th>\n      <th>Children</th>\n      <th>Pets</th>\n      <th>Absenteeism Time in Hours</th>\n    </tr>\n  </thead>\n  <tbody>\n    <tr>\n      <th>0</th>\n      <td>0</td>\n      <td>0</td>\n      <td>0</td>\n      <td>1</td>\n      <td>07/07/2015</td>\n      <td>289</td>\n      <td>36</td>\n      <td>33</td>\n      <td>239.554</td>\n      <td>30</td>\n      <td>1</td>\n      <td>2</td>\n      <td>1</td>\n      <td>4</td>\n    </tr>\n    <tr>\n      <th>1</th>\n      <td>0</td>\n      <td>0</td>\n      <td>0</td>\n      <td>0</td>\n      <td>14/07/2015</td>\n      <td>118</td>\n      <td>13</td>\n      <td>50</td>\n      <td>239.554</td>\n      <td>31</td>\n      <td>1</td>\n      <td>1</td>\n      <td>0</td>\n      <td>0</td>\n    </tr>\n    <tr>\n      <th>2</th>\n      <td>0</td>\n      <td>0</td>\n      <td>0</td>\n      <td>1</td>\n      <td>15/07/2015</td>\n      <td>179</td>\n      <td>51</td>\n      <td>38</td>\n      <td>239.554</td>\n      <td>31</td>\n      <td>1</td>\n      <td>0</td>\n      <td>0</td>\n      <td>2</td>\n    </tr>\n    <tr>\n      <th>3</th>\n      <td>1</td>\n      <td>0</td>\n      <td>0</td>\n      <td>0</td>\n      <td>16/07/2015</td>\n      <td>279</td>\n      <td>5</td>\n      <td>39</td>\n      <td>239.554</td>\n      <td>24</td>\n      <td>1</td>\n      <td>2</td>\n      <td>0</td>\n      <td>4</td>\n    </tr>\n    <tr>\n      <th>4</th>\n      <td>0</td>\n      <td>0</td>\n      <td>0</td>\n      <td>1</td>\n      <td>23/07/2015</td>\n      <td>289</td>\n      <td>36</td>\n      <td>33</td>\n      <td>239.554</td>\n      <td>30</td>\n      <td>1</td>\n      <td>2</td>\n      <td>1</td>\n      <td>2</td>\n    </tr>\n  </tbody>\n</table>\n</div>"
     },
     "execution_count": 72,
     "metadata": {},
     "output_type": "execute_result"
    }
   ],
   "source": [
    "column_names_reordered = ['Reason Type 1','Reason Type 2','Reason Type 3','Reason Type 4',\"Date\",\"Transportation Expense\",'Distance to Work','Age','Daily Work Load Average','Body Mass Index','Education','Children','Pets','Absenteeism Time in Hours']\n",
    "df = df[column_names_reordered]"
   ],
   "metadata": {
    "collapsed": false,
    "pycharm": {
     "name": "#%%\n"
    }
   }
  },
  {
   "cell_type": "code",
   "execution_count": null,
   "outputs": [],
   "source": [],
   "metadata": {
    "collapsed": false,
    "pycharm": {
     "name": "#%%\n"
    }
   }
  }
 ],
 "metadata": {
  "kernelspec": {
   "display_name": "Python 3",
   "language": "python",
   "name": "python3"
  },
  "language_info": {
   "codemirror_mode": {
    "name": "ipython",
    "version": 2
   },
   "file_extension": ".py",
   "mimetype": "text/x-python",
   "name": "python",
   "nbconvert_exporter": "python",
   "pygments_lexer": "ipython2",
   "version": "2.7.6"
  }
 },
 "nbformat": 4,
 "nbformat_minor": 0
}