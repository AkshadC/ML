{
 "cells": [
  {
   "cell_type": "markdown",
   "metadata": {},
   "source": [
    "## Import the relevant libraries"
   ]
  },
  {
   "cell_type": "code",
   "execution_count": 16,
   "metadata": {},
   "outputs": [],
   "source": [
    "import numpy as np\n",
    "import pandas as pd\n",
    "import statsmodels.api as sm\n",
    "import warnings\n",
    "import seaborn\n",
    "warnings.filterwarnings(\"ignore\")\n",
    "seaborn.set()"
   ]
  },
  {
   "cell_type": "markdown",
   "metadata": {},
   "source": [
    "## Load the data"
   ]
  },
  {
   "cell_type": "code",
   "execution_count": 17,
   "metadata": {},
   "outputs": [],
   "source": [
    "bank_data = pd.read_csv('Bank_data.csv')"
   ]
  },
  {
   "cell_type": "code",
   "execution_count": 18,
   "metadata": {},
   "outputs": [],
   "source": [
    "bank_data['y'] = bank_data['y'].map({'yes':1,'no':0})\n",
    "bank_data = bank_data.drop(['Unnamed: 0'],axis=1)"
   ]
  },
  {
   "cell_type": "markdown",
   "metadata": {},
   "source": [
    "### Declare the dependent and independent variables"
   ]
  },
  {
   "cell_type": "code",
   "execution_count": 19,
   "metadata": {},
   "outputs": [],
   "source": [
    "x1 = bank_data['duration']\n",
    "y = bank_data['y']"
   ]
  },
  {
   "cell_type": "markdown",
   "metadata": {},
   "source": [
    "### Simple Logistic Regression"
   ]
  },
  {
   "cell_type": "code",
   "execution_count": 20,
   "metadata": {},
   "outputs": [
    {
     "name": "stdout",
     "output_type": "stream",
     "text": [
      "Optimization terminated successfully.\n",
      "         Current function value: 0.546118\n",
      "         Iterations 7\n"
     ]
    }
   ],
   "source": [
    "x = sm.add_constant(x1)\n",
    "reg_log = sm.Logit(y,x)\n",
    "res = reg_log.fit()"
   ]
  },
  {
   "cell_type": "markdown",
   "metadata": {},
   "source": [
    "## Expand the model"
   ]
  },
  {
   "cell_type": "code",
   "execution_count": 21,
   "metadata": {},
   "outputs": [],
   "source": [
    "estimators=['interest_rate','credit','march','may','previous','duration']\n",
    "X1 = bank_data[estimators]\n",
    "y = bank_data['y']"
   ]
  },
  {
   "cell_type": "code",
   "execution_count": 22,
   "metadata": {
    "scrolled": false
   },
   "outputs": [
    {
     "name": "stdout",
     "output_type": "stream",
     "text": [
      "Optimization terminated successfully.\n",
      "         Current function value: 0.335942\n",
      "         Iterations 7\n"
     ]
    }
   ],
   "source": [
    "X = sm.add_constant(X1)\n",
    "Reg_Log = sm.Logit(y,X)\n",
    "Res = Reg_Log.fit()"
   ]
  },
  {
   "cell_type": "markdown",
   "metadata": {},
   "source": [
    "### Confusion Matrix"
   ]
  },
  {
   "cell_type": "code",
   "execution_count": 23,
   "metadata": {},
   "outputs": [],
   "source": [
    "def confusion_Matrix_Accuracy(xData , actual_values, model):\n",
    "        pred_values = model.predict(xData)\n",
    "        bins = np.array([0,0.5,1])\n",
    "        cm = np.histogram2d(actual_values,pred_values,bins=bins)[0]\n",
    "        accuracy = (cm[0,0]+cm[1,1])/cm.sum()\n",
    "        return cm,accuracy\n",
    "\n",
    "cm_train = confusion_Matrix_Accuracy(X,y,Res)[0]\n",
    "accuracy_train = (confusion_Matrix_Accuracy(X,y,Res)[1] * 100).round(3)\n"
   ]
  },
  {
   "cell_type": "markdown",
   "metadata": {},
   "source": [
    "## Test the model"
   ]
  },
  {
   "cell_type": "code",
   "execution_count": 24,
   "metadata": {},
   "outputs": [],
   "source": [
    "test_data = pd.read_csv('Bank-data-testing.csv')"
   ]
  },
  {
   "cell_type": "code",
   "execution_count": 25,
   "metadata": {},
   "outputs": [],
   "source": [
    "test_data = test_data.drop(['Unnamed: 0'],axis=1)\n",
    "test_data['y'] = test_data['y'].map({'yes':1,'no':0})"
   ]
  },
  {
   "cell_type": "markdown",
   "metadata": {},
   "source": [
    "### Declare the dependent and the independent variables"
   ]
  },
  {
   "cell_type": "code",
   "execution_count": 26,
   "metadata": {},
   "outputs": [],
   "source": [
    "x_test1 = test_data[estimators]\n",
    "y_test = test_data['y']"
   ]
  },
  {
   "cell_type": "code",
   "execution_count": 27,
   "metadata": {},
   "outputs": [],
   "source": [
    "X_test = sm.add_constant(x_test1)"
   ]
  },
  {
   "cell_type": "code",
   "execution_count": 28,
   "metadata": {},
   "outputs": [],
   "source": [
    "cm_test = confusion_Matrix_Accuracy(X_test,y_test,Res)[0]\n",
    "accuracy_test = (confusion_Matrix_Accuracy(X_test,y_test,Res)[1]*100).round(3)"
   ]
  },
  {
   "cell_type": "code",
   "execution_count": 29,
   "metadata": {},
   "outputs": [
    {
     "name": "stdout",
     "output_type": "stream",
     "text": [
      "Overall accuracy :  86.486 \n",
      "\n",
      "Test accuracy :  86.937 \n",
      "\n",
      "Confusion Matrix for all data :  \n",
      " [[220.  39.]\n",
      " [ 31. 228.]] \n",
      "\n",
      "Confusion Matrix for test data :  \n",
      " [[94. 17.]\n",
      " [12. 99.]] \n",
      "\n"
     ]
    }
   ],
   "source": [
    "print(\"Overall accuracy : \", accuracy_train ,\"\\n\",)\n",
    "print(\"Test accuracy : \", accuracy_test ,\"\\n\",)\n",
    "print(\"Confusion Matrix for all data : \",\"\\n\",cm_train,\"\\n\",)\n",
    "print(\"Confusion Matrix for test data : \",\"\\n\",cm_test,\"\\n\",)"
   ]
  },
  {
   "cell_type": "markdown",
   "source": [
    "### THUS WE CAN SAY THAT THE ACCURACY FOR THE TEST DATA AND THE OVERALL DATA IS APPROX SAME ND THUS OUR MODEL IS SIGNIFICANT"
   ],
   "metadata": {
    "collapsed": false,
    "pycharm": {
     "name": "#%% md\n"
    }
   }
  }
 ],
 "metadata": {
  "kernelspec": {
   "display_name": "Python 3",
   "language": "python",
   "name": "python3"
  },
  "language_info": {
   "codemirror_mode": {
    "name": "ipython",
    "version": 3
   },
   "file_extension": ".py",
   "mimetype": "text/x-python",
   "name": "python",
   "nbconvert_exporter": "python",
   "pygments_lexer": "ipython3",
   "version": "3.6.4"
  }
 },
 "nbformat": 4,
 "nbformat_minor": 2
}