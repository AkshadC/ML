{
 "cells": [
  {
   "cell_type": "code",
   "execution_count": 1,
   "metadata": {
    "collapsed": true
   },
   "outputs": [
    {
     "name": "stderr",
     "output_type": "stream",
     "text": [
      "2022-01-26 16:24:22.336272: W tensorflow/stream_executor/platform/default/dso_loader.cc:64] Could not load dynamic library 'libcudart.so.11.0'; dlerror: libcudart.so.11.0: cannot open shared object file: No such file or directory\n",
      "2022-01-26 16:24:22.336330: I tensorflow/stream_executor/cuda/cudart_stub.cc:29] Ignore above cudart dlerror if you do not have a GPU set up on your machine.\n"
     ]
    }
   ],
   "source": [
    "import numpy as np\n",
    "import tensorflow as tf"
   ]
  },
  {
   "cell_type": "code",
   "execution_count": 2,
   "outputs": [],
   "source": [
    "npz = np.load('AudioBooks_Train.npz')\n",
    "\n",
    "train_inputs = npz['inputs'].astype(float)\n",
    "train_targets = npz['targets'].astype(int)\n",
    "\n",
    "npz = np.load('AudioBooks_Validation.npz')\n",
    "\n",
    "validation_inputs = npz['inputs'].astype(float)\n",
    "validation_targets = npz['targets'].astype(int)\n",
    "\n",
    "npz = np.load('AudioBooks_Test.npz')\n",
    "\n",
    "test_inputs = npz['inputs'].astype(float)\n",
    "test_targets = npz['targets'].astype(int)\n",
    "train_targets=train_targets.reshape(-1,1)\n",
    "validation_targets=validation_targets.reshape(-1,1)\n"
   ],
   "metadata": {
    "collapsed": false,
    "pycharm": {
     "name": "#%%\n"
    }
   }
  },
  {
   "cell_type": "code",
   "execution_count": 3,
   "outputs": [
    {
     "name": "stderr",
     "output_type": "stream",
     "text": [
      "2022-01-26 16:24:25.480632: I tensorflow/stream_executor/cuda/cuda_gpu_executor.cc:939] successful NUMA node read from SysFS had negative value (-1), but there must be at least one NUMA node, so returning NUMA node zero\n",
      "2022-01-26 16:24:25.481396: W tensorflow/stream_executor/platform/default/dso_loader.cc:64] Could not load dynamic library 'libcudart.so.11.0'; dlerror: libcudart.so.11.0: cannot open shared object file: No such file or directory\n",
      "2022-01-26 16:24:25.481528: W tensorflow/stream_executor/platform/default/dso_loader.cc:64] Could not load dynamic library 'libcublas.so.11'; dlerror: libcublas.so.11: cannot open shared object file: No such file or directory\n",
      "2022-01-26 16:24:25.481609: W tensorflow/stream_executor/platform/default/dso_loader.cc:64] Could not load dynamic library 'libcublasLt.so.11'; dlerror: libcublasLt.so.11: cannot open shared object file: No such file or directory\n",
      "2022-01-26 16:24:25.481683: W tensorflow/stream_executor/platform/default/dso_loader.cc:64] Could not load dynamic library 'libcufft.so.10'; dlerror: libcufft.so.10: cannot open shared object file: No such file or directory\n",
      "2022-01-26 16:24:25.481755: W tensorflow/stream_executor/platform/default/dso_loader.cc:64] Could not load dynamic library 'libcurand.so.10'; dlerror: libcurand.so.10: cannot open shared object file: No such file or directory\n",
      "2022-01-26 16:24:25.481823: W tensorflow/stream_executor/platform/default/dso_loader.cc:64] Could not load dynamic library 'libcusolver.so.11'; dlerror: libcusolver.so.11: cannot open shared object file: No such file or directory\n",
      "2022-01-26 16:24:25.481890: W tensorflow/stream_executor/platform/default/dso_loader.cc:64] Could not load dynamic library 'libcusparse.so.11'; dlerror: libcusparse.so.11: cannot open shared object file: No such file or directory\n",
      "2022-01-26 16:24:25.481962: W tensorflow/stream_executor/platform/default/dso_loader.cc:64] Could not load dynamic library 'libcudnn.so.8'; dlerror: libcudnn.so.8: cannot open shared object file: No such file or directory\n",
      "2022-01-26 16:24:25.481976: W tensorflow/core/common_runtime/gpu/gpu_device.cc:1850] Cannot dlopen some GPU libraries. Please make sure the missing libraries mentioned above are installed properly if you would like to use GPU. Follow the guide at https://www.tensorflow.org/install/gpu for how to download and setup the required libraries for your platform.\n",
      "Skipping registering GPU devices...\n",
      "2022-01-26 16:24:25.482325: I tensorflow/core/platform/cpu_feature_guard.cc:151] This TensorFlow binary is optimized with oneAPI Deep Neural Network Library (oneDNN) to use the following CPU instructions in performance-critical operations:  AVX2 FMA\n",
      "To enable them in other operations, rebuild TensorFlow with the appropriate compiler flags.\n"
     ]
    },
    {
     "name": "stdout",
     "output_type": "stream",
     "text": [
      "Epoch 1/100\n",
      "72/72 - 1s - loss: 0.3864 - accuracy: 0.8472 - val_loss: 0.3244 - val_accuracy: 0.8859 - 1s/epoch - 15ms/step\n",
      "Epoch 2/100\n",
      "72/72 - 0s - loss: 0.2927 - accuracy: 0.8902 - val_loss: 0.2978 - val_accuracy: 0.8926 - 177ms/epoch - 2ms/step\n",
      "Epoch 3/100\n",
      "72/72 - 0s - loss: 0.2772 - accuracy: 0.8958 - val_loss: 0.2908 - val_accuracy: 0.8971 - 170ms/epoch - 2ms/step\n",
      "Epoch 4/100\n",
      "72/72 - 0s - loss: 0.2727 - accuracy: 0.8963 - val_loss: 0.2704 - val_accuracy: 0.8971 - 180ms/epoch - 2ms/step\n",
      "Epoch 5/100\n",
      "72/72 - 0s - loss: 0.2644 - accuracy: 0.9000 - val_loss: 0.2773 - val_accuracy: 0.8993 - 177ms/epoch - 2ms/step\n",
      "Epoch 6/100\n",
      "72/72 - 0s - loss: 0.2626 - accuracy: 0.9008 - val_loss: 0.2630 - val_accuracy: 0.9083 - 172ms/epoch - 2ms/step\n",
      "Epoch 7/100\n",
      "72/72 - 0s - loss: 0.2568 - accuracy: 0.9025 - val_loss: 0.2644 - val_accuracy: 0.9038 - 173ms/epoch - 2ms/step\n",
      "Epoch 8/100\n",
      "72/72 - 0s - loss: 0.2519 - accuracy: 0.9047 - val_loss: 0.2589 - val_accuracy: 0.9060 - 182ms/epoch - 3ms/step\n",
      "Epoch 9/100\n",
      "72/72 - 0s - loss: 0.2550 - accuracy: 0.9053 - val_loss: 0.2489 - val_accuracy: 0.9105 - 197ms/epoch - 3ms/step\n",
      "Epoch 10/100\n",
      "72/72 - 0s - loss: 0.2490 - accuracy: 0.9084 - val_loss: 0.2603 - val_accuracy: 0.9016 - 174ms/epoch - 2ms/step\n",
      "Epoch 11/100\n",
      "72/72 - 0s - loss: 0.2510 - accuracy: 0.9025 - val_loss: 0.2738 - val_accuracy: 0.9060 - 162ms/epoch - 2ms/step\n"
     ]
    },
    {
     "data": {
      "text/plain": "<keras.callbacks.History at 0x7f718c37fa90>"
     },
     "execution_count": 3,
     "metadata": {},
     "output_type": "execute_result"
    }
   ],
   "source": [
    "input_size = 10\n",
    "output_size = 2\n",
    "hidden_layer_size = 50\n",
    "\n",
    "model = tf.keras.Sequential([\n",
    "                            tf.keras.layers.Dense(hidden_layer_size,activation='tanh'),\n",
    "                            tf.keras.layers.Dense(hidden_layer_size,activation='tanh'),\n",
    "                            tf.keras.layers.Dense(hidden_layer_size,activation='tanh'),\n",
    "                            tf.keras.layers.Dense(output_size,activation='softmax')\n",
    "                            ])\n",
    "model.compile(optimizer='adam',loss='sparse_categorical_crossentropy',metrics=['accuracy'])\n",
    "\n",
    "epochs = 100\n",
    "Batch_Size = 50\n",
    "early_stopping = tf.keras.callbacks.EarlyStopping(patience=2)\n",
    "model.fit(train_inputs,train_targets,batch_size=Batch_Size,epochs=epochs,callbacks=[early_stopping],validation_data=(validation_inputs,validation_targets),verbose=2)"
   ],
   "metadata": {
    "collapsed": false,
    "pycharm": {
     "name": "#%%\n"
    }
   }
  },
  {
   "cell_type": "code",
   "execution_count": 4,
   "outputs": [
    {
     "name": "stdout",
     "output_type": "stream",
     "text": [
      "14/14 [==============================] - 0s 3ms/step - loss: 0.2332 - accuracy: 0.9129\n"
     ]
    }
   ],
   "source": [
    "test_loss,test_accuracy = model.evaluate(test_inputs,test_targets)"
   ],
   "metadata": {
    "collapsed": false,
    "pycharm": {
     "name": "#%%\n"
    }
   }
  },
  {
   "cell_type": "code",
   "execution_count": 7,
   "outputs": [
    {
     "name": "stdout",
     "output_type": "stream",
     "text": [
      "INFO:tensorflow:Assets written to: Audiobook_final.model/assets\n"
     ]
    }
   ],
   "source": [
    "model.save(\"Audiobook_final.model\")"
   ],
   "metadata": {
    "collapsed": false,
    "pycharm": {
     "name": "#%%\n"
    }
   }
  }
 ],
 "metadata": {
  "kernelspec": {
   "display_name": "Python 3",
   "language": "python",
   "name": "python3"
  },
  "language_info": {
   "codemirror_mode": {
    "name": "ipython",
    "version": 2
   },
   "file_extension": ".py",
   "mimetype": "text/x-python",
   "name": "python",
   "nbconvert_exporter": "python",
   "pygments_lexer": "ipython2",
   "version": "2.7.6"
  }
 },
 "nbformat": 4,
 "nbformat_minor": 0
}