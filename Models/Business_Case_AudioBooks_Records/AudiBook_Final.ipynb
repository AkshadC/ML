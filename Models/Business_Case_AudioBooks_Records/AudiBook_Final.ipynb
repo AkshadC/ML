{
 "cells": [
  {
   "cell_type": "code",
   "execution_count": 118,
   "metadata": {
    "collapsed": true
   },
   "outputs": [],
   "source": [
    "import numpy as np\n",
    "import tensorflow as tf"
   ]
  },
  {
   "cell_type": "code",
   "execution_count": 119,
   "outputs": [],
   "source": [
    "npz = np.load('AudioBooks_Train.npz')\n",
    "\n",
    "train_inputs = npz['inputs'].astype(float)\n",
    "train_targets = npz['targets'].astype(int)\n",
    "\n",
    "npz = np.load('AudioBooks_Validation.npz')\n",
    "\n",
    "validation_inputs = npz['inputs'].astype(float)\n",
    "validation_targets = npz['targets'].astype(int)\n",
    "\n",
    "npz = np.load('AudioBooks_Test.npz')\n",
    "\n",
    "test_inputs = npz['inputs'].astype(float)\n",
    "test_targets = npz['targets'].astype(int)\n",
    "train_targets=train_targets.reshape(-1,1)\n",
    "validation_targets=validation_targets.reshape(-1,1)\n"
   ],
   "metadata": {
    "collapsed": false,
    "pycharm": {
     "name": "#%%\n"
    }
   }
  },
  {
   "cell_type": "code",
   "execution_count": 120,
   "outputs": [
    {
     "name": "stdout",
     "output_type": "stream",
     "text": [
      "Epoch 1/100\n",
      "72/72 - 2s - loss: 0.3469 - accuracy: 0.8676 - val_loss: 0.3107 - val_accuracy: 0.8926 - 2s/epoch - 26ms/step\n",
      "Epoch 2/100\n",
      "72/72 - 0s - loss: 0.2855 - accuracy: 0.8941 - val_loss: 0.2923 - val_accuracy: 0.8926 - 256ms/epoch - 4ms/step\n",
      "Epoch 3/100\n",
      "72/72 - 0s - loss: 0.2824 - accuracy: 0.8930 - val_loss: 0.2767 - val_accuracy: 0.8993 - 248ms/epoch - 3ms/step\n",
      "Epoch 4/100\n",
      "72/72 - 0s - loss: 0.2682 - accuracy: 0.9003 - val_loss: 0.2675 - val_accuracy: 0.9016 - 232ms/epoch - 3ms/step\n",
      "Epoch 5/100\n",
      "72/72 - 0s - loss: 0.2640 - accuracy: 0.9039 - val_loss: 0.2758 - val_accuracy: 0.8971 - 237ms/epoch - 3ms/step\n",
      "Epoch 6/100\n",
      "72/72 - 0s - loss: 0.2610 - accuracy: 0.9050 - val_loss: 0.2499 - val_accuracy: 0.9016 - 274ms/epoch - 4ms/step\n",
      "Epoch 7/100\n",
      "72/72 - 0s - loss: 0.2572 - accuracy: 0.9036 - val_loss: 0.2563 - val_accuracy: 0.9038 - 212ms/epoch - 3ms/step\n",
      "Epoch 8/100\n",
      "72/72 - 0s - loss: 0.2548 - accuracy: 0.9036 - val_loss: 0.2595 - val_accuracy: 0.9083 - 214ms/epoch - 3ms/step\n"
     ]
    },
    {
     "data": {
      "text/plain": "<keras.callbacks.History at 0x22c69376a00>"
     },
     "execution_count": 120,
     "metadata": {},
     "output_type": "execute_result"
    }
   ],
   "source": [
    "input_size = 10\n",
    "output_size = 2\n",
    "hidden_layer_size = 50\n",
    "\n",
    "model = tf.keras.Sequential([\n",
    "                            tf.keras.layers.Dense(hidden_layer_size,activation='tanh'),\n",
    "                            tf.keras.layers.Dense(hidden_layer_size,activation='tanh'),\n",
    "                            tf.keras.layers.Dense(hidden_layer_size,activation='tanh'),\n",
    "                            tf.keras.layers.Dense(output_size,activation='softmax')\n",
    "                            ])\n",
    "model.compile(optimizer='adam',loss='sparse_categorical_crossentropy',metrics=['accuracy'])\n",
    "\n",
    "epochs = 100\n",
    "Batch_Size = 50\n",
    "early_stopping = tf.keras.callbacks.EarlyStopping(patience=2)\n",
    "model.fit(train_inputs,train_targets,batch_size=Batch_Size,epochs=epochs,callbacks=[early_stopping],validation_data=(validation_inputs,validation_targets),verbose=2)"
   ],
   "metadata": {
    "collapsed": false,
    "pycharm": {
     "name": "#%%\n"
    }
   }
  },
  {
   "cell_type": "code",
   "execution_count": 121,
   "outputs": [
    {
     "name": "stdout",
     "output_type": "stream",
     "text": [
      "14/14 [==============================] - 0s 3ms/step - loss: 0.2371 - accuracy: 0.9107\n"
     ]
    }
   ],
   "source": [
    "test_loss,test_accuracy = model.evaluate(test_inputs,test_targets)"
   ],
   "metadata": {
    "collapsed": false,
    "pycharm": {
     "name": "#%%\n"
    }
   }
  }
 ],
 "metadata": {
  "kernelspec": {
   "display_name": "Python 3",
   "language": "python",
   "name": "python3"
  },
  "language_info": {
   "codemirror_mode": {
    "name": "ipython",
    "version": 2
   },
   "file_extension": ".py",
   "mimetype": "text/x-python",
   "name": "python",
   "nbconvert_exporter": "python",
   "pygments_lexer": "ipython2",
   "version": "2.7.6"
  }
 },
 "nbformat": 4,
 "nbformat_minor": 0
}