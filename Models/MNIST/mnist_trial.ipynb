{
 "cells": [
  {
   "cell_type": "code",
   "execution_count": 119,
   "metadata": {
    "collapsed": true,
    "pycharm": {
     "name": "#%%\n"
    }
   },
   "outputs": [],
   "source": [
    "import os.path\n",
    "\n",
    "import matplotlib.pyplot as plt\n",
    "import tensorflow as tf\n",
    "import tensorflow_datasets as tfds\n",
    "import warnings\n",
    "warnings.filterwarnings(\"ignore\")"
   ]
  },
  {
   "cell_type": "code",
   "execution_count": 120,
   "outputs": [
    {
     "name": "stderr",
     "output_type": "stream",
     "text": [
      "2022-01-21 22:03:38.811082: W tensorflow/core/kernels/data/cache_dataset_ops.cc:768] The calling iterator did not fully read the dataset being cached. In order to avoid unexpected truncation of the dataset, the partially cached contents of the dataset  will be discarded. This can happen if you have an input pipeline similar to `dataset.cache().take(k).repeat()`. You should use `dataset.take(k).cache().repeat()` instead.\n"
     ]
    }
   ],
   "source": [
    "mnist_dataset,mnist_info = tfds.load(name='mnist',with_info=True,as_supervised=True)\n",
    "\n",
    "mnist_train,mnist_test = mnist_dataset['train'],mnist_dataset['test']\n",
    "\n",
    "num_validation_samples = 0.1*mnist_info.splits['train'].num_examples\n",
    "num_validation_samples = tf.cast(num_validation_samples,tf.int64)\n",
    "\n",
    "num_test_samples = mnist_info.splits['test'].num_examples\n",
    "num_test_samples = tf.cast(num_test_samples,tf.int64)\n",
    "\n",
    "def scale(image, label):\n",
    "    image = tf.cast(image,tf.float32)\n",
    "    image /=255.\n",
    "    return image, label\n",
    "\n",
    "scaled_train_validation_data = mnist_train.map(scale)\n",
    "test_data = mnist_test.map(scale)\n",
    "\n",
    "Buffer_Size = 4500\n",
    "\n",
    "shuffled_train_validation_data = scaled_train_validation_data.shuffle(Buffer_Size)\n",
    "\n",
    "validation_data = shuffled_train_validation_data.take(num_validation_samples)\n",
    "train_data = shuffled_train_validation_data.skip(num_validation_samples)\n",
    "\n",
    "Batch_Size = 150\n",
    "train_data = train_data.batch(Batch_Size)\n",
    "validation_data = validation_data.batch(num_validation_samples)\n",
    "test_data = test_data.batch(num_test_samples)\n",
    "\n",
    "validation_inputs,validation_targets = next(iter(validation_data))\n"
   ],
   "metadata": {
    "collapsed": false,
    "pycharm": {
     "name": "#%%\n"
    }
   }
  },
  {
   "cell_type": "code",
   "execution_count": 121,
   "outputs": [],
   "source": [
    "input_size = 784\n",
    "output_size = 10\n",
    "hidden_layer_size = 250\n",
    "\n",
    "model = tf.keras.Sequential([\n",
    "                            tf.keras.layers.Flatten(input_shape=(28,28,1)),\n",
    "                            tf.keras.layers.Dense(hidden_layer_size,activation='tanh'),\n",
    "                            tf.keras.layers.Dense(hidden_layer_size,activation='tanh'),\n",
    "                            tf.keras.layers.Dense(hidden_layer_size,activation='tanh'),\n",
    "                            tf.keras.layers.Dense(hidden_layer_size,activation='tanh'),\n",
    "                            tf.keras.layers.Dense(output_size,activation='softmax')\n",
    "                            ])"
   ],
   "metadata": {
    "collapsed": false,
    "pycharm": {
     "name": "#%%\n"
    }
   }
  },
  {
   "cell_type": "code",
   "execution_count": 122,
   "outputs": [],
   "source": [
    "model.compile(optimizer='adam',loss='sparse_categorical_crossentropy',metrics=['accuracy'])"
   ],
   "metadata": {
    "collapsed": false,
    "pycharm": {
     "name": "#%%\n"
    }
   }
  },
  {
   "cell_type": "code",
   "execution_count": 123,
   "outputs": [
    {
     "name": "stdout",
     "output_type": "stream",
     "text": [
      "Epoch 1/25\n",
      "360/360 - 7s - loss: 0.2846 - accuracy: 0.9131 - val_loss: 0.1707 - val_accuracy: 0.9498 - 7s/epoch - 20ms/step\n",
      "Epoch 2/25\n",
      "360/360 - 5s - loss: 0.1360 - accuracy: 0.9585 - val_loss: 0.1233 - val_accuracy: 0.9608 - 5s/epoch - 13ms/step\n",
      "Epoch 3/25\n",
      "360/360 - 4s - loss: 0.0978 - accuracy: 0.9698 - val_loss: 0.0906 - val_accuracy: 0.9753 - 4s/epoch - 11ms/step\n",
      "Epoch 4/25\n",
      "360/360 - 4s - loss: 0.0693 - accuracy: 0.9781 - val_loss: 0.0892 - val_accuracy: 0.9727 - 4s/epoch - 11ms/step\n",
      "Epoch 5/25\n",
      "360/360 - 5s - loss: 0.0582 - accuracy: 0.9820 - val_loss: 0.0764 - val_accuracy: 0.9765 - 5s/epoch - 13ms/step\n",
      "Epoch 6/25\n",
      "360/360 - 5s - loss: 0.0408 - accuracy: 0.9868 - val_loss: 0.0613 - val_accuracy: 0.9802 - 5s/epoch - 13ms/step\n",
      "Epoch 7/25\n",
      "360/360 - 6s - loss: 0.0351 - accuracy: 0.9889 - val_loss: 0.0713 - val_accuracy: 0.9782 - 6s/epoch - 15ms/step\n",
      "Epoch 8/25\n",
      "360/360 - 5s - loss: 0.0298 - accuracy: 0.9900 - val_loss: 0.0572 - val_accuracy: 0.9843 - 5s/epoch - 13ms/step\n",
      "Epoch 9/25\n",
      "360/360 - 6s - loss: 0.0262 - accuracy: 0.9911 - val_loss: 0.0490 - val_accuracy: 0.9848 - 6s/epoch - 16ms/step\n",
      "Epoch 10/25\n",
      "360/360 - 5s - loss: 0.0225 - accuracy: 0.9928 - val_loss: 0.0422 - val_accuracy: 0.9878 - 5s/epoch - 15ms/step\n",
      "Epoch 11/25\n",
      "360/360 - 5s - loss: 0.0174 - accuracy: 0.9943 - val_loss: 0.0399 - val_accuracy: 0.9867 - 5s/epoch - 14ms/step\n",
      "Epoch 12/25\n",
      "360/360 - 5s - loss: 0.0197 - accuracy: 0.9933 - val_loss: 0.0508 - val_accuracy: 0.9860 - 5s/epoch - 14ms/step\n",
      "Epoch 13/25\n",
      "360/360 - 4s - loss: 0.0184 - accuracy: 0.9940 - val_loss: 0.0499 - val_accuracy: 0.9863 - 4s/epoch - 11ms/step\n",
      "Epoch 14/25\n",
      "360/360 - 4s - loss: 0.0148 - accuracy: 0.9953 - val_loss: 0.0309 - val_accuracy: 0.9900 - 4s/epoch - 12ms/step\n",
      "Epoch 15/25\n",
      "360/360 - 4s - loss: 0.0119 - accuracy: 0.9960 - val_loss: 0.0340 - val_accuracy: 0.9897 - 4s/epoch - 12ms/step\n",
      "Epoch 16/25\n",
      "360/360 - 4s - loss: 0.0116 - accuracy: 0.9963 - val_loss: 0.0253 - val_accuracy: 0.9920 - 4s/epoch - 11ms/step\n",
      "Epoch 17/25\n",
      "360/360 - 6s - loss: 0.0153 - accuracy: 0.9948 - val_loss: 0.0337 - val_accuracy: 0.9897 - 6s/epoch - 17ms/step\n",
      "Epoch 18/25\n",
      "360/360 - 5s - loss: 0.0135 - accuracy: 0.9955 - val_loss: 0.0222 - val_accuracy: 0.9920 - 5s/epoch - 14ms/step\n",
      "Epoch 19/25\n",
      "360/360 - 6s - loss: 0.0094 - accuracy: 0.9969 - val_loss: 0.0190 - val_accuracy: 0.9937 - 6s/epoch - 17ms/step\n",
      "Epoch 20/25\n",
      "360/360 - 5s - loss: 0.0083 - accuracy: 0.9971 - val_loss: 0.0221 - val_accuracy: 0.9923 - 5s/epoch - 13ms/step\n",
      "Epoch 21/25\n",
      "360/360 - 5s - loss: 0.0108 - accuracy: 0.9965 - val_loss: 0.0275 - val_accuracy: 0.9930 - 5s/epoch - 13ms/step\n",
      "Epoch 22/25\n",
      "360/360 - 5s - loss: 0.0093 - accuracy: 0.9968 - val_loss: 0.0285 - val_accuracy: 0.9922 - 5s/epoch - 14ms/step\n",
      "Epoch 23/25\n",
      "360/360 - 5s - loss: 0.0134 - accuracy: 0.9955 - val_loss: 0.0267 - val_accuracy: 0.9923 - 5s/epoch - 14ms/step\n",
      "Epoch 24/25\n",
      "360/360 - 4s - loss: 0.0069 - accuracy: 0.9979 - val_loss: 0.0172 - val_accuracy: 0.9947 - 4s/epoch - 12ms/step\n",
      "Epoch 25/25\n",
      "360/360 - 4s - loss: 0.0045 - accuracy: 0.9984 - val_loss: 0.0156 - val_accuracy: 0.9952 - 4s/epoch - 11ms/step\n"
     ]
    },
    {
     "data": {
      "text/plain": "<keras.callbacks.History at 0x7f2e24cc2a30>"
     },
     "execution_count": 123,
     "metadata": {},
     "output_type": "execute_result"
    }
   ],
   "source": [
    "num_epochs=25\n",
    "model.fit(train_data,epochs=num_epochs,validation_data=(validation_inputs,validation_targets),verbose=2)"
   ],
   "metadata": {
    "collapsed": false,
    "pycharm": {
     "name": "#%%\n"
    }
   }
  },
  {
   "cell_type": "code",
   "execution_count": 124,
   "outputs": [
    {
     "name": "stderr",
     "output_type": "stream",
     "text": [
      "2022-01-21 22:05:42.921240: W tensorflow/core/kernels/data/cache_dataset_ops.cc:768] The calling iterator did not fully read the dataset being cached. In order to avoid unexpected truncation of the dataset, the partially cached contents of the dataset  will be discarded. This can happen if you have an input pipeline similar to `dataset.cache().take(k).repeat()`. You should use `dataset.take(k).cache().repeat()` instead.\n"
     ]
    },
    {
     "name": "stdout",
     "output_type": "stream",
     "text": [
      "INFO:tensorflow:Assets written to: handwritten.model/assets\n"
     ]
    },
    {
     "name": "stderr",
     "output_type": "stream",
     "text": [
      "INFO:tensorflow:Assets written to: handwritten.model/assets\n"
     ]
    }
   ],
   "source": [
    "model.save(\"handwritten.model\")"
   ],
   "metadata": {
    "collapsed": false,
    "pycharm": {
     "name": "#%%\n"
    }
   }
  },
  {
   "cell_type": "code",
   "execution_count": 143,
   "outputs": [
    {
     "name": "stdout",
     "output_type": "stream",
     "text": [
      "This digit is probably a 7\n",
      "Error\n"
     ]
    }
   ],
   "source": [
    "import cv2\n",
    "import numpy as np\n",
    "image_number=9\n",
    "model_my = tf.keras.models.load_model('handwritten.model')\n",
    "\n",
    "try:\n",
    "        img = cv2.imread('digits/digit{}.png'.format(image_number))[:,:,0]\n",
    "        img = np.invert(np.array([img]))\n",
    "        predictions = model.predict(img)\n",
    "        print(f\"This digit is probably a {np.argmax(predictions)}\")\n",
    "        plt.imshow(img[0],cmap=plt.cm.binary)\n",
    "        plt.show()\n",
    "except:\n",
    "        print(\"Error\")\n",
    "finally:\n",
    "        image_number+=1\n"
   ],
   "metadata": {
    "collapsed": false,
    "pycharm": {
     "name": "#%%\n"
    }
   }
  }
 ],
 "metadata": {
  "kernelspec": {
   "display_name": "Python 3",
   "language": "python",
   "name": "python3"
  },
  "language_info": {
   "codemirror_mode": {
    "name": "ipython",
    "version": 2
   },
   "file_extension": ".py",
   "mimetype": "text/x-python",
   "name": "python",
   "nbconvert_exporter": "python",
   "pygments_lexer": "ipython2",
   "version": "2.7.6"
  }
 },
 "nbformat": 4,
 "nbformat_minor": 0
}