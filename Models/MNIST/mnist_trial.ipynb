{
 "cells": [
  {
   "cell_type": "code",
   "execution_count": 105,
   "metadata": {
    "collapsed": true,
    "pycharm": {
     "name": "#%%\n"
    }
   },
   "outputs": [],
   "source": [
    "import tensorflow as tf\n",
    "import tensorflow_datasets as tfds\n",
    "import warnings\n",
    "warnings.filterwarnings(\"ignore\")"
   ]
  },
  {
   "cell_type": "code",
   "execution_count": 106,
   "outputs": [
    {
     "name": "stderr",
     "output_type": "stream",
     "text": [
      "2022-01-21 21:46:32.533491: W tensorflow/core/kernels/data/cache_dataset_ops.cc:768] The calling iterator did not fully read the dataset being cached. In order to avoid unexpected truncation of the dataset, the partially cached contents of the dataset  will be discarded. This can happen if you have an input pipeline similar to `dataset.cache().take(k).repeat()`. You should use `dataset.take(k).cache().repeat()` instead.\n"
     ]
    }
   ],
   "source": [
    "mnist_dataset,mnist_info = tfds.load(name='mnist',with_info=True,as_supervised=True)\n",
    "\n",
    "mnist_train,mnist_test = mnist_dataset['train'],mnist_dataset['test']\n",
    "\n",
    "num_validation_samples = 0.1*mnist_info.splits['train'].num_examples\n",
    "num_validation_samples = tf.cast(num_validation_samples,tf.int64)\n",
    "\n",
    "num_test_samples = mnist_info.splits['test'].num_examples\n",
    "num_test_samples = tf.cast(num_test_samples,tf.int64)\n",
    "\n",
    "def scale(image, label):\n",
    "    image = tf.cast(image,tf.float32)\n",
    "    image /=255.\n",
    "    return image, label\n",
    "\n",
    "scaled_train_validation_data = mnist_train.map(scale)\n",
    "test_data = mnist_test.map(scale)\n",
    "\n",
    "Buffer_Size = 4500\n",
    "\n",
    "shuffled_train_validation_data = scaled_train_validation_data.shuffle(Buffer_Size)\n",
    "\n",
    "validation_data = shuffled_train_validation_data.take(num_validation_samples)\n",
    "train_data = shuffled_train_validation_data.skip(num_validation_samples)\n",
    "\n",
    "Batch_Size = 150\n",
    "train_data = train_data.batch(Batch_Size)\n",
    "validation_data = validation_data.batch(num_validation_samples)\n",
    "test_data = test_data.batch(num_test_samples)\n",
    "\n",
    "validation_inputs,validation_targets = next(iter(validation_data))\n"
   ],
   "metadata": {
    "collapsed": false,
    "pycharm": {
     "name": "#%%\n"
    }
   }
  },
  {
   "cell_type": "code",
   "execution_count": 107,
   "outputs": [],
   "source": [
    "input_size = 784\n",
    "output_size = 10\n",
    "hidden_layer_size = 250\n",
    "\n",
    "model = tf.keras.Sequential([\n",
    "                            tf.keras.layers.Flatten(input_shape=(28,28,1)),\n",
    "                            tf.keras.layers.Dense(hidden_layer_size,activation='tanh'),\n",
    "                            tf.keras.layers.Dense(hidden_layer_size,activation='tanh'),\n",
    "                            tf.keras.layers.Dense(hidden_layer_size,activation='tanh'),\n",
    "                            tf.keras.layers.Dense(hidden_layer_size,activation='tanh'),\n",
    "                            tf.keras.layers.Dense(output_size,activation='softmax')\n",
    "                            ])"
   ],
   "metadata": {
    "collapsed": false,
    "pycharm": {
     "name": "#%%\n"
    }
   }
  },
  {
   "cell_type": "code",
   "execution_count": 108,
   "outputs": [],
   "source": [
    "model.compile(optimizer='adam',loss='sparse_categorical_crossentropy',metrics=['accuracy'])"
   ],
   "metadata": {
    "collapsed": false,
    "pycharm": {
     "name": "#%%\n"
    }
   }
  },
  {
   "cell_type": "code",
   "execution_count": 109,
   "outputs": [
    {
     "name": "stdout",
     "output_type": "stream",
     "text": [
      "Epoch 1/25\n",
      "360/360 - 5s - loss: 0.2871 - accuracy: 0.9139 - val_loss: 0.1656 - val_accuracy: 0.9502 - 5s/epoch - 14ms/step\n",
      "Epoch 2/25\n",
      "360/360 - 4s - loss: 0.1349 - accuracy: 0.9595 - val_loss: 0.1375 - val_accuracy: 0.9585 - 4s/epoch - 11ms/step\n",
      "Epoch 3/25\n",
      "360/360 - 4s - loss: 0.0924 - accuracy: 0.9709 - val_loss: 0.0803 - val_accuracy: 0.9758 - 4s/epoch - 11ms/step\n",
      "Epoch 4/25\n",
      "360/360 - 4s - loss: 0.0717 - accuracy: 0.9770 - val_loss: 0.0751 - val_accuracy: 0.9778 - 4s/epoch - 12ms/step\n",
      "Epoch 5/25\n",
      "360/360 - 4s - loss: 0.0542 - accuracy: 0.9828 - val_loss: 0.0688 - val_accuracy: 0.9788 - 4s/epoch - 11ms/step\n",
      "Epoch 6/25\n",
      "360/360 - 4s - loss: 0.0431 - accuracy: 0.9863 - val_loss: 0.0636 - val_accuracy: 0.9802 - 4s/epoch - 11ms/step\n",
      "Epoch 7/25\n",
      "360/360 - 4s - loss: 0.0335 - accuracy: 0.9890 - val_loss: 0.0586 - val_accuracy: 0.9807 - 4s/epoch - 11ms/step\n",
      "Epoch 8/25\n",
      "360/360 - 4s - loss: 0.0282 - accuracy: 0.9907 - val_loss: 0.0523 - val_accuracy: 0.9842 - 4s/epoch - 11ms/step\n",
      "Epoch 9/25\n",
      "360/360 - 4s - loss: 0.0289 - accuracy: 0.9907 - val_loss: 0.0493 - val_accuracy: 0.9847 - 4s/epoch - 11ms/step\n",
      "Epoch 10/25\n",
      "360/360 - 4s - loss: 0.0220 - accuracy: 0.9927 - val_loss: 0.0502 - val_accuracy: 0.9847 - 4s/epoch - 11ms/step\n",
      "Epoch 11/25\n",
      "360/360 - 4s - loss: 0.0208 - accuracy: 0.9934 - val_loss: 0.0317 - val_accuracy: 0.9902 - 4s/epoch - 11ms/step\n",
      "Epoch 12/25\n",
      "360/360 - 4s - loss: 0.0170 - accuracy: 0.9946 - val_loss: 0.0273 - val_accuracy: 0.9913 - 4s/epoch - 11ms/step\n",
      "Epoch 13/25\n",
      "360/360 - 4s - loss: 0.0162 - accuracy: 0.9949 - val_loss: 0.0276 - val_accuracy: 0.9910 - 4s/epoch - 12ms/step\n",
      "Epoch 14/25\n",
      "360/360 - 4s - loss: 0.0124 - accuracy: 0.9960 - val_loss: 0.0261 - val_accuracy: 0.9912 - 4s/epoch - 12ms/step\n",
      "Epoch 15/25\n",
      "360/360 - 4s - loss: 0.0132 - accuracy: 0.9958 - val_loss: 0.0412 - val_accuracy: 0.9878 - 4s/epoch - 11ms/step\n",
      "Epoch 16/25\n",
      "360/360 - 4s - loss: 0.0189 - accuracy: 0.9936 - val_loss: 0.0389 - val_accuracy: 0.9865 - 4s/epoch - 12ms/step\n",
      "Epoch 17/25\n",
      "360/360 - 4s - loss: 0.0113 - accuracy: 0.9963 - val_loss: 0.0330 - val_accuracy: 0.9898 - 4s/epoch - 11ms/step\n",
      "Epoch 18/25\n",
      "360/360 - 4s - loss: 0.0093 - accuracy: 0.9969 - val_loss: 0.0146 - val_accuracy: 0.9948 - 4s/epoch - 12ms/step\n",
      "Epoch 19/25\n",
      "360/360 - 4s - loss: 0.0099 - accuracy: 0.9970 - val_loss: 0.0319 - val_accuracy: 0.9903 - 4s/epoch - 11ms/step\n",
      "Epoch 20/25\n",
      "360/360 - 4s - loss: 0.0105 - accuracy: 0.9965 - val_loss: 0.0252 - val_accuracy: 0.9927 - 4s/epoch - 12ms/step\n",
      "Epoch 21/25\n",
      "360/360 - 4s - loss: 0.0143 - accuracy: 0.9954 - val_loss: 0.0278 - val_accuracy: 0.9915 - 4s/epoch - 12ms/step\n",
      "Epoch 22/25\n",
      "360/360 - 4s - loss: 0.0142 - accuracy: 0.9953 - val_loss: 0.0229 - val_accuracy: 0.9930 - 4s/epoch - 11ms/step\n",
      "Epoch 23/25\n",
      "360/360 - 4s - loss: 0.0078 - accuracy: 0.9975 - val_loss: 0.0154 - val_accuracy: 0.9950 - 4s/epoch - 11ms/step\n",
      "Epoch 24/25\n",
      "360/360 - 4s - loss: 0.0059 - accuracy: 0.9982 - val_loss: 0.0189 - val_accuracy: 0.9938 - 4s/epoch - 12ms/step\n",
      "Epoch 25/25\n",
      "360/360 - 4s - loss: 0.0108 - accuracy: 0.9963 - val_loss: 0.0221 - val_accuracy: 0.9923 - 4s/epoch - 12ms/step\n"
     ]
    },
    {
     "data": {
      "text/plain": "<keras.callbacks.History at 0x7f2e24ff0130>"
     },
     "execution_count": 109,
     "metadata": {},
     "output_type": "execute_result"
    }
   ],
   "source": [
    "num_epochs=25\n",
    "model.fit(train_data,epochs=num_epochs,validation_data=(validation_inputs,validation_targets),verbose=2)"
   ],
   "metadata": {
    "collapsed": false,
    "pycharm": {
     "name": "#%%\n"
    }
   }
  },
  {
   "cell_type": "code",
   "execution_count": 110,
   "outputs": [
    {
     "name": "stdout",
     "output_type": "stream",
     "text": [
      "1/1 [==============================] - 0s 444ms/step - loss: 0.0989 - accuracy: 0.9787\n",
      "Test loss: 0.10. Test accuracy: 97.87%\n"
     ]
    }
   ],
   "source": [
    "test_loss,test_accuracy = model.evaluate(test_data)\n",
    "print('Test loss: {0:.2f}. Test accuracy: {1:.2f}%'.format(test_loss,test_accuracy*100.))"
   ],
   "metadata": {
    "collapsed": false,
    "pycharm": {
     "name": "#%%\n"
    }
   }
  }
 ],
 "metadata": {
  "kernelspec": {
   "display_name": "Python 3",
   "language": "python",
   "name": "python3"
  },
  "language_info": {
   "codemirror_mode": {
    "name": "ipython",
    "version": 2
   },
   "file_extension": ".py",
   "mimetype": "text/x-python",
   "name": "python",
   "nbconvert_exporter": "python",
   "pygments_lexer": "ipython2",
   "version": "2.7.6"
  }
 },
 "nbformat": 4,
 "nbformat_minor": 0
}